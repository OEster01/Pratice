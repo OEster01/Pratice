{
 "cells": [
  {
   "cell_type": "markdown",
   "id": "53e6c2a1-2a2a-4bbc-b55b-c8bd3894de64",
   "metadata": {},
   "source": [
    "# Data Science Tools and Ecosystem"
   ]
  },
  {
   "cell_type": "markdown",
   "id": "1789b512-cc13-413f-9e1b-31e6c585a95e",
   "metadata": {},
   "source": [
    "## In this notebook, Data Science Tools and Ecosystem are summarized."
   ]
  },
  {
   "cell_type": "markdown",
   "id": "d83528f4-f531-4768-9fb6-41e4c7ddf8aa",
   "metadata": {
    "tags": []
   },
   "source": [
    "#### Some of the popular languages that Data Scientists use are:\n",
    "1. Python\n",
    "2. R\n",
    "3. SQL\n",
    "4. and others"
   ]
  },
  {
   "cell_type": "markdown",
   "id": "9c7b1bd5-2a71-43e8-a3b5-8f78433e441e",
   "metadata": {},
   "source": [
    "**Objectives:**\n",
    " List popular languages for Data Science\n",
    " * Python\n",
    " * R\n",
    " * SQL"
   ]
  },
  {
   "cell_type": "markdown",
   "id": "62965eed-4ca4-4342-b4a0-df77c5e004e3",
   "metadata": {},
   "source": [
    "#### Some of the commonly used libraries used by Data Scientists include:\n",
    "1. Matplotlib\n",
    "2. TensorFlow\n",
    "3. Pandas\n",
    "4. and others"
   ]
  },
  {
   "cell_type": "markdown",
   "id": "7ceb771d-4924-42f1-a5c2-5c5b6c4c4bd9",
   "metadata": {},
   "source": [
    "| Data Science Tools |\n",
    "| ------------------ |\n",
    "| Project Jupyter |\n",
    "| Apache Spark |\n",
    "| RStudio |"
   ]
  },
  {
   "cell_type": "markdown",
   "id": "313111d0-6ff5-4138-b8a4-40d4e5c1fae2",
   "metadata": {},
   "source": [
    "### Below are a few examples of evaluating arithmetic expressions in Python"
   ]
  },
  {
   "cell_type": "code",
   "execution_count": 1,
   "id": "cb421e9a-7907-426d-9329-5885ea2f444b",
   "metadata": {
    "tags": []
   },
   "outputs": [
    {
     "data": {
      "text/plain": [
       "17"
      ]
     },
     "execution_count": 1,
     "metadata": {},
     "output_type": "execute_result"
    }
   ],
   "source": [
    "# This a simple arithmetic expression to mutiply then add integers\n",
    "(3*4)+5"
   ]
  },
  {
   "cell_type": "code",
   "execution_count": 2,
   "id": "8f806f02-59fb-410a-a7a9-25afaf01296d",
   "metadata": {
    "tags": []
   },
   "outputs": [
    {
     "name": "stdout",
     "output_type": "stream",
     "text": [
      "Hours= 3\n",
      "Minutes= 20\n"
     ]
    }
   ],
   "source": [
    "# This will convert 200 minutes to hours by diving by 60\n",
    "min=int(200)\n",
    "h=min//60\n",
    "m=min%60\n",
    "print(\"Hours=\",h)\n",
    "print(\"Minutes=\",m)"
   ]
  },
  {
   "cell_type": "markdown",
   "id": "da94f366-f17b-414d-b385-83a73e1e5a99",
   "metadata": {},
   "source": [
    "## Author:\n",
    "Ayush Phani"
   ]
  },
  {
   "cell_type": "code",
   "execution_count": null,
   "id": "ca841a4d-767e-4c5a-8632-25731642d499",
   "metadata": {},
   "outputs": [],
   "source": []
  }
 ],
 "metadata": {
  "kernelspec": {
   "display_name": "Python",
   "language": "python",
   "name": "conda-env-python-py"
  },
  "language_info": {
   "codemirror_mode": {
    "name": "ipython",
    "version": 3
   },
   "file_extension": ".py",
   "mimetype": "text/x-python",
   "name": "python",
   "nbconvert_exporter": "python",
   "pygments_lexer": "ipython3",
   "version": "3.7.12"
  }
 },
 "nbformat": 4,
 "nbformat_minor": 5
}
